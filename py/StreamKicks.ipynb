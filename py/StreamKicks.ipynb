{
 "cells": [
  {
   "cell_type": "code",
   "execution_count": 1,
   "metadata": {
    "collapsed": false
   },
   "outputs": [
    {
     "name": "stdout",
     "output_type": "stream",
     "text": [
      "Populating the interactive namespace from numpy and matplotlib\n"
     ]
    }
   ],
   "source": [
    "import os, os.path\n",
    "import numpy\n",
    "import galpy.df_src.streamgapdf\n",
    "import seaborn as sns\n",
    "from galpy.util import bovy_plot, bovy_conversion\n",
    "from stream2_util import R0, V0\n",
    "from matplotlib import pyplot\n",
    "from matplotlib.ticker import NullFormatter\n",
    "nullfmt= NullFormatter()\n",
    "%pylab inline\n",
    "save_figures= True"
   ]
  },
  {
   "cell_type": "markdown",
   "metadata": {},
   "source": [
    "## Simple analytic calculations of stream-stream interactions"
   ]
  },
  {
   "cell_type": "code",
   "execution_count": 2,
   "metadata": {
    "collapsed": false
   },
   "outputs": [],
   "source": [
    "# Setup\n",
    "GM=10.**-2./bovy_conversion.mass_in_1010msol(V0,R0)\n",
    "rs= 0.625/R0\n",
    "b= rs\n",
    "stream_phi= numpy.linspace(-numpy.pi/2.,numpy.pi/2.,201)\n",
    "stream_r= 10./R0\n",
    "stream_v= 220./V0\n",
    "x_gc= stream_r*stream_phi\n",
    "v_gc= numpy.tile([0.000001,stream_v,0.000001],(201,1))\n",
    "w= numpy.array([0.,132.,176])/V0\n",
    "wmag= numpy.sqrt(numpy.sum(w**2.))"
   ]
  },
  {
   "cell_type": "code",
   "execution_count": 3,
   "metadata": {
    "collapsed": true
   },
   "outputs": [],
   "source": [
    "deltav_curved_r = galpy.df_src.streamgapdf.impulse_deltav_plummer(v_gc,x_gc,-b,w,GM,rs)"
   ]
  },
  {
   "cell_type": "code",
   "execution_count": 4,
   "metadata": {
    "collapsed": false
   },
   "outputs": [],
   "source": [
    "dt= 2./wmag/V0*bovy_conversion.freq_in_kmskpc(V0,R0)\n",
    "deltav_curved_stream_r_1kpc = galpy.df_src.streamgapdf.impulse_deltav_plummerstream(v_gc,x_gc,-b,w,\n",
    "                                                                               lambda t: GM/dt,rs,-dt/2.,dt/2.)\n",
    "dt= 4./wmag/V0*bovy_conversion.freq_in_kmskpc(V0,R0)\n",
    "deltav_curved_stream_r_2kpc = galpy.df_src.streamgapdf.impulse_deltav_plummerstream(v_gc,x_gc,-b,w,\n",
    "                                                                               lambda t: GM/dt,rs,-dt/2.,dt/2.)\n",
    "dt= 10./wmag/V0*bovy_conversion.freq_in_kmskpc(V0,R0)\n",
    "deltav_curved_stream_r_5kpc = galpy.df_src.streamgapdf.impulse_deltav_plummerstream(v_gc,x_gc,-b,w,\n",
    "                                                                               lambda t: GM/dt,rs,-dt/2.,dt/2.)\n",
    "dt= 40./wmag/V0*bovy_conversion.freq_in_kmskpc(V0,R0)\n",
    "deltav_curved_stream_r_20kpc = galpy.df_src.streamgapdf.impulse_deltav_plummerstream(v_gc,x_gc,-b,w,\n",
    "                                                                               lambda t: GM/dt,rs,-dt/2.,dt/2.)"
   ]
  },
  {
   "cell_type": "code",
   "execution_count": 5,
   "metadata": {
    "collapsed": false
   },
   "outputs": [],
   "source": [
    "deltav_curved_streamplus_r = galpy.df_src.streamgapdf.impulse_deltav_plummer(v_gc,x_gc,-b,w,GM/2.,rs)\\\n",
    "    +deltav_curved_stream_r_2kpc/2."
   ]
  },
  {
   "cell_type": "code",
   "execution_count": 6,
   "metadata": {
    "collapsed": false
   },
   "outputs": [],
   "source": [
    "bovy_plot.bovy_print(axes_labelsize=18.,xtick_labelsize=14.,ytick_labelsize=14.)\n",
    "figsize(4,6)\n",
    "subplot(2,1,1)\n",
    "bovy_plot.bovy_plot(stream_phi/numpy.pi*180.,\n",
    "                    deltav_curved_r[:,0]*V0,\n",
    "                    color='k',lw=3.,\n",
    "                    xrange=[-89.,89.],\n",
    "                    yrange=[-3.75,1.],\n",
    "                    gcf=True,zorder=0,\n",
    "#                    xlabel=r'$\\mathrm{angle\\ along\\ stream\\,(deg)}$',\n",
    "                    ylabel=r'$\\delta v_x\\,(\\mathrm{km\\,s}^{-1})$')\n",
    "#bovy_plot.bovy_text(r'$v_x$',top_left=True,size=17.)\n",
    "plot(stream_phi/numpy.pi*180.,deltav_curved_stream_r_1kpc[:,0]*V0,\n",
    "     color=sns.color_palette(\"colorblind\")[2],zorder=4,lw=3.)\n",
    "plot(stream_phi/numpy.pi*180.,deltav_curved_stream_r_5kpc[:,0]*V0,\n",
    "     color=sns.color_palette(\"colorblind\")[1],zorder=3,lw=3.)\n",
    "plot(stream_phi/numpy.pi*180.,deltav_curved_stream_r_20kpc[:,0]*V0,\n",
    "     color=sns.color_palette(\"colorblind\")[3],zorder=2,lw=3.)\n",
    "plot(stream_phi/numpy.pi*180.,deltav_curved_streamplus_r[:,0]*V0,\n",
    "     color=sns.color_palette(\"colorblind\")[0],zorder=1,lw=3.)\n",
    "# label\n",
    "plot([stream_phi[41]/numpy.pi*180.,-60.],[deltav_curved_stream_r_20kpc[41,0]*V0,-2.],\n",
    "    lw=1.,color=sns.color_palette(\"colorblind\")[3],zorder=0)\n",
    "bovy_plot.bovy_text(-82.,-2.5,r'$\\mathrm{20\\ kpc\\ arms}$',\n",
    "                   size=17.,color=sns.color_palette(\"colorblind\")[3])\n",
    "plot([stream_phi[131]/numpy.pi*180.,40.],[deltav_curved_stream_r_5kpc[131,0]*V0,-2.],\n",
    "    lw=1.,color=sns.color_palette(\"colorblind\")[1],zorder=0)\n",
    "bovy_plot.bovy_text(22.,-2.5,r'$\\mathrm{5\\ kpc\\ arms}$',\n",
    "                   size=17.,color=sns.color_palette(\"colorblind\")[1])\n",
    "pyplot.gca().xaxis.set_major_formatter(nullfmt)\n",
    "subplot(2,1,2)\n",
    "bovy_plot.bovy_plot(stream_phi/numpy.pi*180.,\n",
    "                    deltav_curved_r[:,1]*V0,\n",
    "                    color='k',lw=3.,\n",
    "                    xrange=[-89.,89.],\n",
    "                    yrange=[-2.5,2.5],\n",
    "                    gcf=True,zorder=0,\n",
    "                    xlabel=r'$\\mathrm{angle\\ along\\ stream\\,(deg)}$',\n",
    "                    ylabel=r'$\\delta v_y\\,(\\mathrm{km\\,s}^{-1})$')\n",
    "#bovy_plot.bovy_text(r'$v_y$',top_left=True,size=17.)\n",
    "plot(stream_phi/numpy.pi*180.,deltav_curved_stream_r_1kpc[:,1]*V0,\n",
    "     color=sns.color_palette(\"colorblind\")[2],zorder=4,lw=3.)\n",
    "plot(stream_phi/numpy.pi*180.,deltav_curved_stream_r_5kpc[:,1]*V0,\n",
    "     color=sns.color_palette(\"colorblind\")[1],zorder=3,lw=3.)\n",
    "plot(stream_phi/numpy.pi*180.,deltav_curved_stream_r_20kpc[:,1]*V0,\n",
    "     color=sns.color_palette(\"colorblind\")[3],zorder=2,lw=3.)\n",
    "plot(stream_phi/numpy.pi*180.,deltav_curved_streamplus_r[:,1]*V0,\n",
    "     color=sns.color_palette(\"colorblind\")[0],zorder=1,lw=3.)\n",
    "# label\n",
    "plot([stream_phi[95]/numpy.pi*180.,30.],[deltav_curved_r[95,1]*V0,2.],\n",
    "    lw=1.,color='k',zorder=0)\n",
    "bovy_plot.bovy_text(32.,1.45,r'$\\mathrm{halo},$'+'\\n'+r'$\\mathrm{no\\ arms}$',\n",
    "                   size=17.,color='k')\n",
    "plot([stream_phi[90]/numpy.pi*180.,20.],[deltav_curved_stream_r_1kpc[90,1]*V0,.85],\n",
    "    lw=1.,color=sns.color_palette(\"colorblind\")[2],zorder=1)\n",
    "bovy_plot.bovy_text(22.,0.65,r'$\\mathrm{1\\ kpc\\ arms}$',\n",
    "                   size=17.,color=sns.color_palette(\"colorblind\")[2])\n",
    "plot([stream_phi[112]/numpy.pi*180.,-13.],[deltav_curved_streamplus_r[112,1]*V0,-1.3],\n",
    "    lw=1.,color=sns.color_palette(\"colorblind\")[0],zorder=5)\n",
    "bovy_plot.bovy_text(-77.,-1.35,r'$\\mathrm{halo}\\ +$'+'\\n'+r'$\\mathrm{2\\ kpc\\ arms}$',\n",
    "                   size=17.,color=sns.color_palette(\"colorblind\")[0])\n",
    "tight_layout()\n",
    "if save_figures:\n",
    "    bovy_plot.bovy_end_print(os.path.join(os.getenv('PAPERSDIR'),'2015-stream-stream','fig1.pdf'))"
   ]
  },
  {
   "cell_type": "code",
   "execution_count": null,
   "metadata": {
    "collapsed": true
   },
   "outputs": [],
   "source": []
  }
 ],
 "metadata": {
  "kernelspec": {
   "display_name": "Python 2",
   "language": "python",
   "name": "python2"
  },
  "language_info": {
   "codemirror_mode": {
    "name": "ipython",
    "version": 2
   },
   "file_extension": ".py",
   "mimetype": "text/x-python",
   "name": "python",
   "nbconvert_exporter": "python",
   "pygments_lexer": "ipython2",
   "version": "2.7.10"
  }
 },
 "nbformat": 4,
 "nbformat_minor": 0
}
